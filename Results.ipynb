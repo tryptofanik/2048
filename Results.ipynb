{
 "cells": [
  {
   "cell_type": "code",
   "execution_count": 2,
   "metadata": {},
   "outputs": [],
   "source": [
    "import matplotlib\n",
    "import seaborn as sns\n",
    "import numpy as np\n",
    "import pandas as pd"
   ]
  },
  {
   "cell_type": "code",
   "execution_count": 3,
   "metadata": {},
   "outputs": [],
   "source": [
    "%matplotlib inline"
   ]
  },
  {
   "cell_type": "code",
   "execution_count": 45,
   "metadata": {},
   "outputs": [],
   "source": [
    "S = []\n",
    "L = [] # log scale\n",
    "import math\n",
    "\n",
    "pliki = []\n",
    "for i in range(3,8):\n",
    "    plik = \"gra\" + str(i)\n",
    "    pliki.append(plik)\n",
    "    f = open(plik).readlines()\n",
    "    for j in f:\n",
    "        S.append([int(j.split()[0]), plik])\n",
    "        L.append([math.log10(int(j.split()[0])), plik, i])\n",
    "df = pd.DataFrame(S)\n",
    "df_log = pd.DataFrame(L)\n"
   ]
  },
  {
   "cell_type": "code",
   "execution_count": 46,
   "metadata": {},
   "outputs": [
    {
     "name": "stdout",
     "output_type": "stream",
     "text": [
      "<bound method NDFrame.head of      log_liczby_ruchów rozmiar_planszy  plansza\n",
      "0             1.278754            gra3        3\n",
      "1             1.113943            gra3        3\n",
      "2             1.000000            gra3        3\n",
      "3             1.414973            gra3        3\n",
      "4             1.301030            gra3        3\n",
      "5             1.176091            gra3        3\n",
      "6             1.204120            gra3        3\n",
      "7             1.204120            gra3        3\n",
      "8             1.462398            gra3        3\n",
      "9             1.204120            gra3        3\n",
      "10            1.278754            gra3        3\n",
      "11            0.954243            gra3        3\n",
      "12            1.204120            gra3        3\n",
      "13            1.397940            gra3        3\n",
      "14            1.278754            gra3        3\n",
      "15            1.361728            gra3        3\n",
      "16            1.204120            gra3        3\n",
      "17            1.113943            gra3        3\n",
      "18            1.380211            gra3        3\n",
      "19            1.204120            gra3        3\n",
      "20            1.301030            gra3        3\n",
      "21            1.000000            gra3        3\n",
      "22            1.301030            gra3        3\n",
      "23            1.230449            gra3        3\n",
      "24            1.176091            gra3        3\n",
      "25            1.146128            gra3        3\n",
      "26            1.278754            gra3        3\n",
      "27            1.322219            gra3        3\n",
      "28            1.322219            gra3        3\n",
      "29            1.230449            gra3        3\n",
      "..                 ...             ...      ...\n",
      "470           3.996468            gra7        7\n",
      "471           3.938870            gra7        7\n",
      "472           4.231470            gra7        7\n",
      "473           4.371659            gra7        7\n",
      "474           4.079109            gra7        7\n",
      "475           4.344471            gra7        7\n",
      "476           3.680789            gra7        7\n",
      "477           4.314141            gra7        7\n",
      "478           4.294003            gra7        7\n",
      "479           4.096006            gra7        7\n",
      "480           4.367561            gra7        7\n",
      "481           4.084826            gra7        7\n",
      "482           4.288383            gra7        7\n",
      "483           3.910518            gra7        7\n",
      "484           4.070444            gra7        7\n",
      "485           4.173215            gra7        7\n",
      "486           4.082678            gra7        7\n",
      "487           4.370217            gra7        7\n",
      "488           3.805569            gra7        7\n",
      "489           4.292655            gra7        7\n",
      "490           4.508543            gra7        7\n",
      "491           4.057019            gra7        7\n",
      "492           3.788451            gra7        7\n",
      "493           4.351062            gra7        7\n",
      "494           4.256116            gra7        7\n",
      "495           3.802295            gra7        7\n",
      "496           4.184748            gra7        7\n",
      "497           4.362746            gra7        7\n",
      "498           3.956649            gra7        7\n",
      "499           4.249394            gra7        7\n",
      "\n",
      "[500 rows x 3 columns]>\n"
     ]
    }
   ],
   "source": [
    "df.columns = [\"liczba_ruchów\", \"rozmiar_planszy\"]\n",
    "df_log.columns = [\"log_liczby_ruchów\", \"rozmiar_planszy\", \"plansza\"]\n",
    "#print(df.head)\n",
    "print(df_log.head)"
   ]
  },
  {
   "cell_type": "code",
   "execution_count": null,
   "metadata": {},
   "outputs": [],
   "source": []
  },
  {
   "cell_type": "code",
   "execution_count": 6,
   "metadata": {},
   "outputs": [
    {
     "data": {
      "text/plain": [
       "<matplotlib.axes._subplots.AxesSubplot at 0x7fb04cd8a940>"
      ]
     },
     "execution_count": 6,
     "metadata": {},
     "output_type": "execute_result"
    },
    {
     "data": {
      "image/png": "[encoded data removed]",
      "text/plain": [
       "<Figure size 432x288 with 1 Axes>"
      ]
     },
     "metadata": {
      "needs_background": "light"
     },
     "output_type": "display_data"
    }
   ],
   "source": [
    "sns.boxplot(x=df[\"rozmiar_planszy\"], y=df[\"liczba_ruchów\"])"
   ]
  },
  {
   "cell_type": "code",
   "execution_count": 7,
   "metadata": {},
   "outputs": [
    {
     "data": {
      "text/plain": [
       "<matplotlib.axes._subplots.AxesSubplot at 0x7fb04acd12b0>"
      ]
     },
     "execution_count": 7,
     "metadata": {},
     "output_type": "execute_result"
    },
    {
     "data": {
      "image/png": "[encoded data removed]",
      "text/plain": [
       "<Figure size 432x288 with 1 Axes>"
      ]
     },
     "metadata": {
      "needs_background": "light"
     },
     "output_type": "display_data"
    }
   ],
   "source": [
    "sns.boxplot(x=df_log[\"rozmiar_planszy\"], y=df_log[\"log_liczby_ruchów\"])"
   ]
  },
  {
   "cell_type": "code",
   "execution_count": 8,
   "metadata": {},
   "outputs": [
    {
     "name": "stderr",
     "output_type": "stream",
     "text": [
      "/home/albert/.local/lib/python3.5/site-packages/scipy/stats/stats.py:1713: FutureWarning: Using a non-tuple sequence for multidimensional indexing is deprecated; use `arr[tuple(seq)]` instead of `arr[seq]`. In the future this will be interpreted as an array index, `arr[np.array(seq)]`, which will result either in an error or a different result.\n",
      "  return np.add.reduce(sorted[indexer] * weights, axis=axis) / sumval\n"
     ]
    },
    {
     "data": {
      "text/plain": [
       "<matplotlib.axes._subplots.AxesSubplot at 0x7fb04ac00f60>"
      ]
     },
     "execution_count": 8,
     "metadata": {},
     "output_type": "execute_result"
    },
    {
     "data": {
      "image/png": "[encoded data removed]",
      "text/plain": [
       "<Figure size 432x288 with 1 Axes>"
      ]
     },
     "metadata": {
      "needs_background": "light"
     },
     "output_type": "display_data"
    }
   ],
   "source": [
    "sns.barplot(x=df[\"rozmiar_planszy\"], y=df[\"liczba_ruchów\"])\n"
   ]
  },
  {
   "cell_type": "code",
   "execution_count": 9,
   "metadata": {},
   "outputs": [
    {
     "data": {
      "text/plain": [
       "<matplotlib.axes._subplots.AxesSubplot at 0x7fb04aba2668>"
      ]
     },
     "execution_count": 9,
     "metadata": {},
     "output_type": "execute_result"
    },
    {
     "data": {
      "image/png": "[encoded data removed]",
      "text/plain": [
       "<Figure size 432x288 with 1 Axes>"
      ]
     },
     "metadata": {
      "needs_background": "light"
     },
     "output_type": "display_data"
    }
   ],
   "source": [
    "sns.barplot(x=df_log[\"rozmiar_planszy\"], y=df_log[\"log_liczby_ruchów\"])"
   ]
  },
  {
   "cell_type": "code",
   "execution_count": 10,
   "metadata": {},
   "outputs": [
    {
     "data": {
      "text/plain": [
       "<matplotlib.axes._subplots.AxesSubplot at 0x7fb04aaf6588>"
      ]
     },
     "execution_count": 10,
     "metadata": {},
     "output_type": "execute_result"
    },
    {
     "data": {
      "image/png": "[encoded data removed]",
      "text/plain": [
       "<Figure size 432x288 with 1 Axes>"
      ]
     },
     "metadata": {
      "needs_background": "light"
     },
     "output_type": "display_data"
    }
   ],
   "source": [
    "\n",
    "# df\n",
    "sns.boxplot(x=df[\"rozmiar_planszy\"], y=df[\"liczba_ruchów\"])"
   ]
  },
  {
   "cell_type": "code",
   "execution_count": 11,
   "metadata": {},
   "outputs": [
    {
     "data": {
      "text/plain": [
       "<matplotlib.axes._subplots.AxesSubplot at 0x7fb04aae3c18>"
      ]
     },
     "execution_count": 11,
     "metadata": {},
     "output_type": "execute_result"
    },
    {
     "data": {
      "image/png": "[encoded data removed]",
      "text/plain": [
       "<Figure size 432x288 with 1 Axes>"
      ]
     },
     "metadata": {
      "needs_background": "light"
     },
     "output_type": "display_data"
    }
   ],
   "source": [
    "sns.violinplot(x=df[\"rozmiar_planszy\"], y=df[\"liczba_ruchów\"])"
   ]
  },
  {
   "cell_type": "code",
   "execution_count": 12,
   "metadata": {},
   "outputs": [
    {
     "data": {
      "text/plain": [
       "<matplotlib.axes._subplots.AxesSubplot at 0x7fb048a2a588>"
      ]
     },
     "execution_count": 12,
     "metadata": {},
     "output_type": "execute_result"
    },
    {
     "data": {
      "image/png": "[encoded data removed]",
      "text/plain": [
       "<Figure size 432x288 with 1 Axes>"
      ]
     },
     "metadata": {
      "needs_background": "light"
     },
     "output_type": "display_data"
    }
   ],
   "source": [
    "sns.violinplot(x=df_log[\"rozmiar_planszy\"], y=df_log[\"log_liczby_ruchów\"])"
   ]
  },
  {
   "cell_type": "code",
   "execution_count": 13,
   "metadata": {},
   "outputs": [
    {
     "data": {
      "text/plain": [
       "<matplotlib.axes._subplots.AxesSubplot at 0x7fb048a0ab00>"
      ]
     },
     "execution_count": 13,
     "metadata": {},
     "output_type": "execute_result"
    },
    {
     "data": {
      "image/png": "[encoded data removed]",
      "text/plain": [
       "<Figure size 432x288 with 1 Axes>"
      ]
     },
     "metadata": {
      "needs_background": "light"
     },
     "output_type": "display_data"
    }
   ],
   "source": [
    "sns.regplot(y=df_log[\"log_liczby_ruchów\"], x=df_log[\"plansza\"],  ci=99.999)"
   ]
  },
  {
   "cell_type": "code",
   "execution_count": 14,
   "metadata": {},
   "outputs": [],
   "source": [
    "import statsmodels.api as sm"
   ]
  },
  {
   "cell_type": "code",
   "execution_count": 17,
   "metadata": {},
   "outputs": [
    {
     "data": {
      "text/html": [
       "<div>\n",
       "<style scoped>\n",
       "    .dataframe tbody tr th:only-of-type {\n",
       "        vertical-align: middle;\n",
       "    }\n",
       "\n",
       "    .dataframe tbody tr th {\n",
       "        vertical-align: top;\n",
       "    }\n",
       "\n",
       "    .dataframe thead th {\n",
       "        text-align: right;\n",
       "    }\n",
       "</style>\n",
       "<table border=\"1\" class=\"dataframe\">\n",
       "  <thead>\n",
       "    <tr style=\"text-align: right;\">\n",
       "      <th></th>\n",
       "      <th>log_liczby_ruchów</th>\n",
       "      <th>rozmiar_planszy</th>\n",
       "      <th>plansza</th>\n",
       "    </tr>\n",
       "  </thead>\n",
       "  <tbody>\n",
       "    <tr>\n",
       "      <th>0</th>\n",
       "      <td>1.278754</td>\n",
       "      <td>gra3</td>\n",
       "      <td>3</td>\n",
       "    </tr>\n",
       "    <tr>\n",
       "      <th>1</th>\n",
       "      <td>1.113943</td>\n",
       "      <td>gra3</td>\n",
       "      <td>3</td>\n",
       "    </tr>\n",
       "    <tr>\n",
       "      <th>2</th>\n",
       "      <td>1.000000</td>\n",
       "      <td>gra3</td>\n",
       "      <td>3</td>\n",
       "    </tr>\n",
       "    <tr>\n",
       "      <th>3</th>\n",
       "      <td>1.414973</td>\n",
       "      <td>gra3</td>\n",
       "      <td>3</td>\n",
       "    </tr>\n",
       "    <tr>\n",
       "      <th>4</th>\n",
       "      <td>1.301030</td>\n",
       "      <td>gra3</td>\n",
       "      <td>3</td>\n",
       "    </tr>\n",
       "  </tbody>\n",
       "</table>\n",
       "</div>"
      ],
      "text/plain": [
       "   log_liczby_ruchów rozmiar_planszy  plansza\n",
       "0           1.278754            gra3        3\n",
       "1           1.113943            gra3        3\n",
       "2           1.000000            gra3        3\n",
       "3           1.414973            gra3        3\n",
       "4           1.301030            gra3        3"
      ]
     },
     "execution_count": 17,
     "metadata": {},
     "output_type": "execute_result"
    }
   ],
   "source": [
    "df_log.head()"
   ]
  },
  {
   "cell_type": "code",
   "execution_count": 18,
   "metadata": {},
   "outputs": [],
   "source": [
    "X = df_log['plansza']\n",
    "y = df_log['log_liczby_ruchów']"
   ]
  },
  {
   "cell_type": "code",
   "execution_count": 19,
   "metadata": {},
   "outputs": [],
   "source": [
    "model = sm.OLS(y, X).fit()\n",
    "predictions = model.predict(X) "
   ]
  },
  {
   "cell_type": "code",
   "execution_count": 21,
   "metadata": {},
   "outputs": [
    {
     "data": {
      "text/html": [
       "<table class=\"simpletable\">\n",
       "<caption>OLS Regression Results</caption>\n",
       "<tr>\n",
       "  <th>Dep. Variable:</th>    <td>log_liczby_ruchów</td> <th>  R-squared:         </th> <td>   0.982</td> \n",
       "</tr>\n",
       "<tr>\n",
       "  <th>Model:</th>                   <td>OLS</td>        <th>  Adj. R-squared:    </th> <td>   0.982</td> \n",
       "</tr>\n",
       "<tr>\n",
       "  <th>Method:</th>             <td>Least Squares</td>   <th>  F-statistic:       </th> <td>2.746e+04</td>\n",
       "</tr>\n",
       "<tr>\n",
       "  <th>Date:</th>             <td>Mon, 25 Feb 2019</td>  <th>  Prob (F-statistic):</th>  <td>  0.00</td>  \n",
       "</tr>\n",
       "<tr>\n",
       "  <th>Time:</th>                 <td>17:57:00</td>      <th>  Log-Likelihood:    </th> <td> -197.59</td> \n",
       "</tr>\n",
       "<tr>\n",
       "  <th>No. Observations:</th>      <td>   500</td>       <th>  AIC:               </th> <td>   397.2</td> \n",
       "</tr>\n",
       "<tr>\n",
       "  <th>Df Residuals:</th>          <td>   499</td>       <th>  BIC:               </th> <td>   401.4</td> \n",
       "</tr>\n",
       "<tr>\n",
       "  <th>Df Model:</th>              <td>     1</td>       <th>                     </th>     <td> </td>    \n",
       "</tr>\n",
       "<tr>\n",
       "  <th>Covariance Type:</th>      <td>nonrobust</td>     <th>                     </th>     <td> </td>    \n",
       "</tr>\n",
       "</table>\n",
       "<table class=\"simpletable\">\n",
       "<tr>\n",
       "     <td></td>        <th>coef</th>     <th>std err</th>      <th>t</th>      <th>P>|t|</th>  <th>[0.025</th>    <th>0.975]</th>  \n",
       "</tr>\n",
       "<tr>\n",
       "  <th>plansza</th> <td>    0.5129</td> <td>    0.003</td> <td>  165.715</td> <td> 0.000</td> <td>    0.507</td> <td>    0.519</td>\n",
       "</tr>\n",
       "</table>\n",
       "<table class=\"simpletable\">\n",
       "<tr>\n",
       "  <th>Omnibus:</th>       <td>62.595</td> <th>  Durbin-Watson:     </th> <td>   0.410</td>\n",
       "</tr>\n",
       "<tr>\n",
       "  <th>Prob(Omnibus):</th> <td> 0.000</td> <th>  Jarque-Bera (JB):  </th> <td>  84.799</td>\n",
       "</tr>\n",
       "<tr>\n",
       "  <th>Skew:</th>          <td> 1.007</td> <th>  Prob(JB):          </th> <td>3.86e-19</td>\n",
       "</tr>\n",
       "<tr>\n",
       "  <th>Kurtosis:</th>      <td> 3.101</td> <th>  Cond. No.          </th> <td>    1.00</td>\n",
       "</tr>\n",
       "</table><br/><br/>Warnings:<br/>[1] Standard Errors assume that the covariance matrix of the errors is correctly specified."
      ],
      "text/plain": [
       "<class 'statsmodels.iolib.summary.Summary'>\n",
       "\"\"\"\n",
       "                            OLS Regression Results                            \n",
       "==============================================================================\n",
       "Dep. Variable:      log_liczby_ruchów   R-squared:                       0.982\n",
       "Model:                            OLS   Adj. R-squared:                  0.982\n",
       "Method:                 Least Squares   F-statistic:                 2.746e+04\n",
       "Date:                Mon, 25 Feb 2019   Prob (F-statistic):               0.00\n",
       "Time:                        17:57:00   Log-Likelihood:                -197.59\n",
       "No. Observations:                 500   AIC:                             397.2\n",
       "Df Residuals:                     499   BIC:                             401.4\n",
       "Df Model:                           1                                         \n",
       "Covariance Type:            nonrobust                                         \n",
       "==============================================================================\n",
       "                 coef    std err          t      P>|t|      [0.025      0.975]\n",
       "------------------------------------------------------------------------------\n",
       "plansza        0.5129      0.003    165.715      0.000       0.507       0.519\n",
       "==============================================================================\n",
       "Omnibus:                       62.595   Durbin-Watson:                   0.410\n",
       "Prob(Omnibus):                  0.000   Jarque-Bera (JB):               84.799\n",
       "Skew:                           1.007   Prob(JB):                     3.86e-19\n",
       "Kurtosis:                       3.101   Cond. No.                         1.00\n",
       "==============================================================================\n",
       "\n",
       "Warnings:\n",
       "[1] Standard Errors assume that the covariance matrix of the errors is correctly specified.\n",
       "\"\"\""
      ]
     },
     "execution_count": 21,
     "metadata": {},
     "output_type": "execute_result"
    }
   ],
   "source": [
    "model.summary()"
   ]
  },
  {
   "cell_type": "code",
   "execution_count": 23,
   "metadata": {},
   "outputs": [
    {
     "data": {
      "text/plain": [
       "<matplotlib.axes._subplots.AxesSubplot at 0x7fb044b5a978>"
      ]
     },
     "execution_count": 23,
     "metadata": {},
     "output_type": "execute_result"
    },
    {
     "data": {
      "image/png": "[encoded data removed]",
      "text/plain": [
       "<Figure size 432x288 with 1 Axes>"
      ]
     },
     "metadata": {
      "needs_background": "light"
     },
     "output_type": "display_data"
    }
   ],
   "source": [
    "sns.scatterplot(x = y, y=predictions)"
   ]
  },
  {
   "cell_type": "code",
   "execution_count": 26,
   "metadata": {},
   "outputs": [
    {
     "name": "stderr",
     "output_type": "stream",
     "text": [
      "/home/albert/.local/lib/python3.5/site-packages/scipy/stats/stats.py:1713: FutureWarning: Using a non-tuple sequence for multidimensional indexing is deprecated; use `arr[tuple(seq)]` instead of `arr[seq]`. In the future this will be interpreted as an array index, `arr[np.array(seq)]`, which will result either in an error or a different result.\n",
      "  return np.add.reduce(sorted[indexer] * weights, axis=axis) / sumval\n"
     ]
    },
    {
     "data": {
      "text/plain": [
       "<matplotlib.axes._subplots.AxesSubplot at 0x7fb044a67d68>"
      ]
     },
     "execution_count": 26,
     "metadata": {},
     "output_type": "execute_result"
    },
    {
     "data": {
      "image/png": "[encoded data removed]",
      "text/plain": [
       "<Figure size 432x288 with 1 Axes>"
      ]
     },
     "metadata": {
      "needs_background": "light"
     },
     "output_type": "display_data"
    }
   ],
   "source": [
    "sns.regplot(x = y, y=predictions)"
   ]
  },
  {
   "cell_type": "code",
   "execution_count": 47,
   "metadata": {},
   "outputs": [
    {
     "name": "stdout",
     "output_type": "stream",
     "text": [
      "2 [10.6111094]\n",
      "3 [34.56536823]\n",
      "4 [112.59564261]\n",
      "5 [366.77690364]\n",
      "6 [1194.76468119]\n",
      "7 [3891.90984836]\n",
      "8 [12677.77873429]\n",
      "9 [41297.48115918]\n",
      "10 [134525.29704432]\n",
      "11 [438212.09034775]\n",
      "12 [1427462.64342895]\n",
      "13 [4649916.42920703]\n",
      "14 [15146962.26772796]\n"
     ]
    }
   ],
   "source": [
    "for i in range(2, 15):\n",
    "    print(i, 10**model.predict(i)) "
   ]
  },
  {
   "cell_type": "code",
   "execution_count": 48,
   "metadata": {},
   "outputs": [
    {
     "data": {
      "text/plain": [
       "14437.26"
      ]
     },
     "execution_count": 48,
     "metadata": {},
     "output_type": "execute_result"
    }
   ],
   "source": [
    "df[df[\"rozmiar_planszy\"]==\"gra7\"][\"liczba_ruchów\"].mean()"
   ]
  },
  {
   "cell_type": "code",
   "execution_count": null,
   "metadata": {},
   "outputs": [],
   "source": []
  }
 ],
 "metadata": {
  "kernelspec": {
   "display_name": "Python 3",
   "language": "python",
   "name": "python3"
  },
  "language_info": {
   "codemirror_mode": {
    "name": "ipython",
    "version": 3
   },
   "file_extension": ".py",
   "mimetype": "text/x-python",
   "name": "python",
   "nbconvert_exporter": "python",
   "pygments_lexer": "ipython3",
   "version": "3.5.2"
  }
 },
 "nbformat": 4,
 "nbformat_minor": 2
}
